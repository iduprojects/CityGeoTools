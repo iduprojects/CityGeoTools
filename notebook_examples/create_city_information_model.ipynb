{
 "cells": [
  {
   "cell_type": "code",
   "execution_count": 2,
   "metadata": {},
   "outputs": [],
   "source": [
    "import sys\n",
    "import os\n",
    "import numpy as np\n",
    "\n",
    "# path to folder to CityGeoTools\n",
    "folder = \"/var/essdata/IDU/other/Rest_/refactored/CityGeoTools\"\n",
    "sys.path.append(folder)\n",
    "\n",
    "from metrics.data import CityInformationModel as BaseModel\n",
    "from metrics.calculations import CityMetricsMethods as CityMetrics"
   ]
  },
  {
   "cell_type": "markdown",
   "metadata": {},
   "source": [
    "### Create CityInformationModel\n",
    "\n",
    "To define own City Information Model, you need to create an instance of CityInformationModel class with specified attributes: \n",
    "   \n",
    "**city_name** - string (name of city which you are going to work with)  \n",
    "**city_crs** - integer (EPSG projection of city)   \n",
    "**cwd** - relative path to CityGeoTools library \n"
   ]
  },
  {
   "cell_type": "code",
   "execution_count": 3,
   "metadata": {},
   "outputs": [
    {
     "data": {
      "text/plain": [
       "<metrics.data.CityInformationModel.CityInformationModel at 0x7f06425fff40>"
      ]
     },
     "execution_count": 3,
     "metadata": {},
     "output_type": "execute_result"
    }
   ],
   "source": [
    "city_model = BaseModel.CityInformationModel(city_name=\"Saint-Petersburg\", city_crs=32636, cwd=\"../\")\n",
    "city_model"
   ]
  },
  {
   "cell_type": "markdown",
   "metadata": {},
   "source": [
    "The object of class CityInformationModel contains attributes describing data required for successful method call.  \n",
    "After creating own model these attributes equal to **None** by default."
   ]
  },
  {
   "cell_type": "code",
   "execution_count": 4,
   "metadata": {},
   "outputs": [
    {
     "data": {
      "text/plain": [
       "{'city_name': 'Saint-Petersburg',\n",
       " 'city_crs': 32636,\n",
       " 'city_id': None,\n",
       " 'cwd': '../',\n",
       " 'mode': 'user_mode',\n",
       " 'MobilityGraph': None,\n",
       " 'Buildings': None,\n",
       " 'Services': None,\n",
       " 'PublicTransportStops': None,\n",
       " 'ServiceTypes': None,\n",
       " 'Blocks': None,\n",
       " 'Municipalities': None,\n",
       " 'AdministrativeUnits': None,\n",
       " 'methods': <metrics.data.DataValidation.DataValidation at 0x7fca98debac0>}"
      ]
     },
     "execution_count": 4,
     "metadata": {},
     "output_type": "execute_result"
    }
   ],
   "source": [
    "city_model.get_all_attributes()"
   ]
  },
  {
   "cell_type": "markdown",
   "metadata": {},
   "source": [
    "### Update layers\n",
    "\n",
    "To use CityGeoTools methods, it is necessary to load prepaid data to the model specifying attribute names and paths to files.  \n",
    "Only **json**, **geojson** and **graphml** file formats are available for loading. Before data loading, all methods are marked as unavailable.  \n",
    "Exception is weighted voronoi method, since it doesn't require any urban data."
   ]
  },
  {
   "cell_type": "code",
   "execution_count": 5,
   "metadata": {},
   "outputs": [
    {
     "name": "stdout",
     "output_type": "stream",
     "text": [
      "All methods implemented in CityGeoTools:\n",
      "\n",
      "traffic_calculator --> unavailable\n",
      "visibility_analysis --> unavailable\n",
      "weighted_voronoi --> available\n",
      "blocks_clusterization --> unavailable\n",
      "services_clusterization --> unavailable\n",
      "spacematrix --> unavailable\n",
      "accessibility_isochrones --> unavailable\n",
      "diversity --> unavailable\n",
      "collocation_matrix --> unavailable\n"
     ]
    }
   ],
   "source": [
    "print(\"All methods implemented in CityGeoTools:\\n\")\n",
    "\n",
    "all_methods = city_model.methods.get_list_of_methods()\n",
    "available_methods = city_model.methods.get_list_of_available_methods()\n",
    "\n",
    "for method in all_methods:\n",
    "    if method in available_methods:\n",
    "        print(method, \"--> available\")\n",
    "    else:\n",
    "        print(method, \"--> unavailable\")\n"
   ]
  },
  {
   "cell_type": "code",
   "execution_count": 8,
   "metadata": {},
   "outputs": [
    {
     "name": "stdout",
     "output_type": "stream",
     "text": [
      "Validation of Buildings layer...\n",
      "Buildings layer loaded successfully!\n",
      "Validation of Services layer...\n",
      "Services layer loaded successfully!\n",
      "Validation of Blocks layer...\n",
      "Blocks layer loaded successfully!\n",
      "Validation of ServiceTypes layer...\n",
      "ServiceTypes layer loaded successfully!\n",
      "Validation of MobilityGraph layer...\n",
      "MobilityGraph layer loaded successfully!\n"
     ]
    }
   ],
   "source": [
    "# GeoJSON\n",
    "city_model.update_layer(\"Buildings\", \"./data/buildings.geojson\")\n",
    "city_model.update_layer(\"Services\", \"./data/services.geojson\")\n",
    "city_model.update_layer(\"Blocks\", \"./data/blocks.geojson\")\n",
    "\n",
    "#JSON\n",
    "city_model.update_layer(\"ServiceTypes\", \"./data/service_types.json\")\n",
    "\n",
    "#GraphML\n",
    "city_model.update_layer(\"MobilityGraph\", \"./data/graph.graphml\")"
   ]
  },
  {
   "cell_type": "code",
   "execution_count": 9,
   "metadata": {},
   "outputs": [
    {
     "data": {
      "text/html": [
       "<div>\n",
       "<style scoped>\n",
       "    .dataframe tbody tr th:only-of-type {\n",
       "        vertical-align: middle;\n",
       "    }\n",
       "\n",
       "    .dataframe tbody tr th {\n",
       "        vertical-align: top;\n",
       "    }\n",
       "\n",
       "    .dataframe thead th {\n",
       "        text-align: right;\n",
       "    }\n",
       "</style>\n",
       "<table border=\"1\" class=\"dataframe\">\n",
       "  <thead>\n",
       "    <tr style=\"text-align: right;\">\n",
       "      <th></th>\n",
       "      <th>geometry</th>\n",
       "      <th>building_id</th>\n",
       "      <th>id</th>\n",
       "      <th>city_service_type</th>\n",
       "      <th>city_service_type_id</th>\n",
       "      <th>service_code</th>\n",
       "      <th>service_name</th>\n",
       "      <th>block_id</th>\n",
       "      <th>administrative_unit_id</th>\n",
       "      <th>municipality_id</th>\n",
       "      <th>x</th>\n",
       "      <th>y</th>\n",
       "    </tr>\n",
       "  </thead>\n",
       "  <tbody>\n",
       "    <tr>\n",
       "      <th>0</th>\n",
       "      <td>POINT (350078.267 6651195.638)</td>\n",
       "      <td>NaN</td>\n",
       "      <td>493918</td>\n",
       "      <td>Остановка общественного транспорта</td>\n",
       "      <td>113</td>\n",
       "      <td>stops</td>\n",
       "      <td>улица Профессора Попова</td>\n",
       "      <td>1183.0</td>\n",
       "      <td>59.0</td>\n",
       "      <td>43.0</td>\n",
       "      <td>350078.267130</td>\n",
       "      <td>6.651196e+06</td>\n",
       "    </tr>\n",
       "    <tr>\n",
       "      <th>1</th>\n",
       "      <td>POINT (354297.100 6657911.331)</td>\n",
       "      <td>NaN</td>\n",
       "      <td>494130</td>\n",
       "      <td>Остановка общественного транспорта</td>\n",
       "      <td>113</td>\n",
       "      <td>stops</td>\n",
       "      <td>проспект Луначарского, 86</td>\n",
       "      <td>1345.0</td>\n",
       "      <td>60.0</td>\n",
       "      <td>21.0</td>\n",
       "      <td>354297.099801</td>\n",
       "      <td>6.657911e+06</td>\n",
       "    </tr>\n",
       "    <tr>\n",
       "      <th>2</th>\n",
       "      <td>POINT (350825.017 6635901.548)</td>\n",
       "      <td>NaN</td>\n",
       "      <td>494196</td>\n",
       "      <td>Остановка общественного транспорта</td>\n",
       "      <td>113</td>\n",
       "      <td>stops</td>\n",
       "      <td>Московское шоссе, 16</td>\n",
       "      <td>1481.0</td>\n",
       "      <td>57.0</td>\n",
       "      <td>61.0</td>\n",
       "      <td>350825.017333</td>\n",
       "      <td>6.635902e+06</td>\n",
       "    </tr>\n",
       "    <tr>\n",
       "      <th>3</th>\n",
       "      <td>POINT (365365.397 6624979.037)</td>\n",
       "      <td>NaN</td>\n",
       "      <td>494207</td>\n",
       "      <td>Остановка общественного транспорта</td>\n",
       "      <td>113</td>\n",
       "      <td>stops</td>\n",
       "      <td>Красная улица</td>\n",
       "      <td>1461.0</td>\n",
       "      <td>56.0</td>\n",
       "      <td>6.0</td>\n",
       "      <td>365365.397207</td>\n",
       "      <td>6.624979e+06</td>\n",
       "    </tr>\n",
       "    <tr>\n",
       "      <th>4</th>\n",
       "      <td>POINT (326276.132 6642328.550)</td>\n",
       "      <td>NaN</td>\n",
       "      <td>494233</td>\n",
       "      <td>Остановка общественного транспорта</td>\n",
       "      <td>113</td>\n",
       "      <td>stops</td>\n",
       "      <td>Мастеровой переулок</td>\n",
       "      <td>5174.0</td>\n",
       "      <td>47.0</td>\n",
       "      <td>7.0</td>\n",
       "      <td>326276.132086</td>\n",
       "      <td>6.642329e+06</td>\n",
       "    </tr>\n",
       "    <tr>\n",
       "      <th>...</th>\n",
       "      <td>...</td>\n",
       "      <td>...</td>\n",
       "      <td>...</td>\n",
       "      <td>...</td>\n",
       "      <td>...</td>\n",
       "      <td>...</td>\n",
       "      <td>...</td>\n",
       "      <td>...</td>\n",
       "      <td>...</td>\n",
       "      <td>...</td>\n",
       "      <td>...</td>\n",
       "      <td>...</td>\n",
       "    </tr>\n",
       "    <tr>\n",
       "      <th>74350</th>\n",
       "      <td>POINT (350758.855 6649949.098)</td>\n",
       "      <td>NaN</td>\n",
       "      <td>265487</td>\n",
       "      <td>Урна</td>\n",
       "      <td>33</td>\n",
       "      <td>garbage_containers</td>\n",
       "      <td>Урна</td>\n",
       "      <td>1403.0</td>\n",
       "      <td>59.0</td>\n",
       "      <td>62.0</td>\n",
       "      <td>350758.855245</td>\n",
       "      <td>6.649949e+06</td>\n",
       "    </tr>\n",
       "    <tr>\n",
       "      <th>74351</th>\n",
       "      <td>POINT (351119.261 6647301.996)</td>\n",
       "      <td>NaN</td>\n",
       "      <td>265971</td>\n",
       "      <td>Урна</td>\n",
       "      <td>33</td>\n",
       "      <td>garbage_containers</td>\n",
       "      <td>Урна</td>\n",
       "      <td>674.0</td>\n",
       "      <td>58.0</td>\n",
       "      <td>70.0</td>\n",
       "      <td>351119.261128</td>\n",
       "      <td>6.647302e+06</td>\n",
       "    </tr>\n",
       "    <tr>\n",
       "      <th>74352</th>\n",
       "      <td>POINT (357946.831 6645516.457)</td>\n",
       "      <td>NaN</td>\n",
       "      <td>266027</td>\n",
       "      <td>Урна</td>\n",
       "      <td>33</td>\n",
       "      <td>garbage_containers</td>\n",
       "      <td>Урна</td>\n",
       "      <td>673.0</td>\n",
       "      <td>52.0</td>\n",
       "      <td>55.0</td>\n",
       "      <td>357946.830748</td>\n",
       "      <td>6.645516e+06</td>\n",
       "    </tr>\n",
       "    <tr>\n",
       "      <th>74353</th>\n",
       "      <td>POINT (349941.096 6639579.684)</td>\n",
       "      <td>NaN</td>\n",
       "      <td>266057</td>\n",
       "      <td>Урна</td>\n",
       "      <td>33</td>\n",
       "      <td>garbage_containers</td>\n",
       "      <td>Урна</td>\n",
       "      <td>1459.0</td>\n",
       "      <td>57.0</td>\n",
       "      <td>59.0</td>\n",
       "      <td>349941.096323</td>\n",
       "      <td>6.639580e+06</td>\n",
       "    </tr>\n",
       "    <tr>\n",
       "      <th>74354</th>\n",
       "      <td>POINT (360238.208 6645081.928)</td>\n",
       "      <td>109629.0</td>\n",
       "      <td>166669</td>\n",
       "      <td>Салон красоты/парикмахерская</td>\n",
       "      <td>62</td>\n",
       "      <td>beauty_salons</td>\n",
       "      <td>Парикмахерская</td>\n",
       "      <td>437.0</td>\n",
       "      <td>52.0</td>\n",
       "      <td>46.0</td>\n",
       "      <td>360238.207658</td>\n",
       "      <td>6.645082e+06</td>\n",
       "    </tr>\n",
       "  </tbody>\n",
       "</table>\n",
       "<p>74355 rows × 12 columns</p>\n",
       "</div>"
      ],
      "text/plain": [
       "                             geometry  building_id      id  \\\n",
       "0      POINT (350078.267 6651195.638)          NaN  493918   \n",
       "1      POINT (354297.100 6657911.331)          NaN  494130   \n",
       "2      POINT (350825.017 6635901.548)          NaN  494196   \n",
       "3      POINT (365365.397 6624979.037)          NaN  494207   \n",
       "4      POINT (326276.132 6642328.550)          NaN  494233   \n",
       "...                               ...          ...     ...   \n",
       "74350  POINT (350758.855 6649949.098)          NaN  265487   \n",
       "74351  POINT (351119.261 6647301.996)          NaN  265971   \n",
       "74352  POINT (357946.831 6645516.457)          NaN  266027   \n",
       "74353  POINT (349941.096 6639579.684)          NaN  266057   \n",
       "74354  POINT (360238.208 6645081.928)     109629.0  166669   \n",
       "\n",
       "                        city_service_type  city_service_type_id  \\\n",
       "0      Остановка общественного транспорта                   113   \n",
       "1      Остановка общественного транспорта                   113   \n",
       "2      Остановка общественного транспорта                   113   \n",
       "3      Остановка общественного транспорта                   113   \n",
       "4      Остановка общественного транспорта                   113   \n",
       "...                                   ...                   ...   \n",
       "74350                                Урна                    33   \n",
       "74351                                Урна                    33   \n",
       "74352                                Урна                    33   \n",
       "74353                                Урна                    33   \n",
       "74354        Салон красоты/парикмахерская                    62   \n",
       "\n",
       "             service_code               service_name  block_id  \\\n",
       "0                   stops    улица Профессора Попова    1183.0   \n",
       "1                   stops  проспект Луначарского, 86    1345.0   \n",
       "2                   stops       Московское шоссе, 16    1481.0   \n",
       "3                   stops              Красная улица    1461.0   \n",
       "4                   stops        Мастеровой переулок    5174.0   \n",
       "...                   ...                        ...       ...   \n",
       "74350  garbage_containers                       Урна    1403.0   \n",
       "74351  garbage_containers                       Урна     674.0   \n",
       "74352  garbage_containers                       Урна     673.0   \n",
       "74353  garbage_containers                       Урна    1459.0   \n",
       "74354       beauty_salons             Парикмахерская     437.0   \n",
       "\n",
       "       administrative_unit_id  municipality_id              x             y  \n",
       "0                        59.0             43.0  350078.267130  6.651196e+06  \n",
       "1                        60.0             21.0  354297.099801  6.657911e+06  \n",
       "2                        57.0             61.0  350825.017333  6.635902e+06  \n",
       "3                        56.0              6.0  365365.397207  6.624979e+06  \n",
       "4                        47.0              7.0  326276.132086  6.642329e+06  \n",
       "...                       ...              ...            ...           ...  \n",
       "74350                    59.0             62.0  350758.855245  6.649949e+06  \n",
       "74351                    58.0             70.0  351119.261128  6.647302e+06  \n",
       "74352                    52.0             55.0  357946.830748  6.645516e+06  \n",
       "74353                    57.0             59.0  349941.096323  6.639580e+06  \n",
       "74354                    52.0             46.0  360238.207658  6.645082e+06  \n",
       "\n",
       "[74355 rows x 12 columns]"
      ]
     },
     "execution_count": 9,
     "metadata": {},
     "output_type": "execute_result"
    }
   ],
   "source": [
    "city_model.Services"
   ]
  },
  {
   "cell_type": "code",
   "execution_count": 11,
   "metadata": {},
   "outputs": [
    {
     "name": "stdout",
     "output_type": "stream",
     "text": [
      "All methods implemented in CityGeoTools:\n",
      "\n",
      "traffic_calculator --> unavailable\n",
      "visibility_analysis --> available\n",
      "weighted_voronoi --> available\n",
      "blocks_clusterization --> unavailable\n",
      "services_clusterization --> unavailable\n",
      "spacematrix --> unavailable\n",
      "accessibility_isochrones --> available\n",
      "diversity --> unavailable\n",
      "collocation_matrix --> unavailable\n"
     ]
    }
   ],
   "source": [
    "print(\"All methods implemented in CityGeoTools:\\n\")\n",
    "\n",
    "all_methods = city_model.methods.get_list_of_methods()\n",
    "available_methods = city_model.methods.get_list_of_available_methods()\n",
    "\n",
    "for method in all_methods:\n",
    "    if method in available_methods:\n",
    "        print(method, \"--> available\")\n",
    "    else:\n",
    "        print(method, \"--> unavailable\")"
   ]
  },
  {
   "cell_type": "markdown",
   "metadata": {},
   "source": [
    "### Deal with ValidationError\n",
    "\n",
    "It should be noted that all loaded data MUST match specification for certain method to successfully call it.  \n",
    "Otherwise, you will encounter the ValidationError even though the file is saved into attribute.   \n",
    "To know why loaded file does not match specification, see attribute **message** that is available trought city_model.methods  "
   ]
  },
  {
   "cell_type": "code",
   "execution_count": 12,
   "metadata": {},
   "outputs": [
    {
     "ename": "ValidationError",
     "evalue": "Layers Blocks do not match specification.",
     "output_type": "error",
     "traceback": [
      "\u001b[0;31m---------------------------------------------------------------------------\u001b[0m",
      "\u001b[0;31mValidationError\u001b[0m                           Traceback (most recent call last)",
      "\u001b[1;32m/var/essdata/IDU/other/Rest_/refactored/CityGeoTools/notebook_examples/create_city_information_model.ipynb Cell 11\u001b[0m in \u001b[0;36m<cell line: 1>\u001b[0;34m()\u001b[0m\n\u001b[0;32m----> <a href='vscode-notebook-cell://ssh-remote%2B10.32.1.60/var/essdata/IDU/other/Rest_/refactored/CityGeoTools/notebook_examples/create_city_information_model.ipynb#X13sdnNjb2RlLXJlbW90ZQ%3D%3D?line=0'>1</a>\u001b[0m CityMetrics\u001b[39m.\u001b[39;49mSpacematrix(city_model)\u001b[39m.\u001b[39mget_spacematrix_morph_types()\n",
      "File \u001b[0;32m/var/essdata/IDU/other/Rest_/refactored/CityGeoTools/metrics/calculations/CityMetricsMethods.py:390\u001b[0m, in \u001b[0;36mSpacematrix.__init__\u001b[0;34m(self, city_model)\u001b[0m\n\u001b[1;32m    388\u001b[0m \u001b[39mdef\u001b[39;00m \u001b[39m__init__\u001b[39m(\u001b[39mself\u001b[39m, city_model):\n\u001b[1;32m    389\u001b[0m     BaseMethod\u001b[39m.\u001b[39m\u001b[39m__init__\u001b[39m(\u001b[39mself\u001b[39m, city_model)\n\u001b[0;32m--> 390\u001b[0m     \u001b[39msuper\u001b[39;49m()\u001b[39m.\u001b[39;49mvalidation(\u001b[39m\"\u001b[39;49m\u001b[39mspacematrix\u001b[39;49m\u001b[39m\"\u001b[39;49m)\n\u001b[1;32m    391\u001b[0m     \u001b[39mself\u001b[39m\u001b[39m.\u001b[39mbuildings \u001b[39m=\u001b[39m \u001b[39mself\u001b[39m\u001b[39m.\u001b[39mcity_model\u001b[39m.\u001b[39mBuildings\u001b[39m.\u001b[39mcopy()\n\u001b[1;32m    392\u001b[0m     \u001b[39mself\u001b[39m\u001b[39m.\u001b[39mblocks \u001b[39m=\u001b[39m \u001b[39mself\u001b[39m\u001b[39m.\u001b[39mcity_model\u001b[39m.\u001b[39mBlocks\u001b[39m.\u001b[39mcopy()\u001b[39m.\u001b[39mset_index(\u001b[39m\"\u001b[39m\u001b[39mid\u001b[39m\u001b[39m\"\u001b[39m)\n",
      "File \u001b[0;32m/var/essdata/IDU/other/Rest_/refactored/CityGeoTools/metrics/calculations/CityMetricsMethods.py:36\u001b[0m, in \u001b[0;36mBaseMethod.validation\u001b[0;34m(self, method)\u001b[0m\n\u001b[1;32m     34\u001b[0m \u001b[39mif\u001b[39;00m \u001b[39mnot\u001b[39;00m \u001b[39mself\u001b[39m\u001b[39m.\u001b[39mcity_model\u001b[39m.\u001b[39mmethods\u001b[39m.\u001b[39mif_method_available(method):\n\u001b[1;32m     35\u001b[0m     bad_layers \u001b[39m=\u001b[39m \u001b[39mself\u001b[39m\u001b[39m.\u001b[39mcity_model\u001b[39m.\u001b[39mmethods\u001b[39m.\u001b[39mget_bad_layers(method)\n\u001b[0;32m---> 36\u001b[0m     \u001b[39mraise\u001b[39;00m ValidationError(\u001b[39mf\u001b[39m\u001b[39m'\u001b[39m\u001b[39mLayers \u001b[39m\u001b[39m{\u001b[39;00m\u001b[39m\"\u001b[39m\u001b[39m, \u001b[39m\u001b[39m\"\u001b[39m\u001b[39m.\u001b[39mjoin(bad_layers)\u001b[39m}\u001b[39;00m\u001b[39m do not match specification.\u001b[39m\u001b[39m'\u001b[39m)\n",
      "\u001b[0;31mValidationError\u001b[0m: Layers Blocks do not match specification."
     ]
    }
   ],
   "source": [
    "CityMetrics.Spacematrix(city_model).get_spacematrix_morph_types()"
   ]
  },
  {
   "cell_type": "code",
   "execution_count": 13,
   "metadata": {},
   "outputs": [
    {
     "data": {
      "text/plain": [
       "{'Buildings': 'Layer matches specification',\n",
       " 'Blocks': \"48.0 is not of type 'integer'\"}"
      ]
     },
     "execution_count": 13,
     "metadata": {},
     "output_type": "execute_result"
    }
   ],
   "source": [
    "city_model.methods.spacematrix.message"
   ]
  }
 ],
 "metadata": {
  "kernelspec": {
   "display_name": "Python 3 (ipykernel)",
   "language": "python",
   "name": "python3"
  },
  "language_info": {
   "codemirror_mode": {
    "name": "ipython",
    "version": 3
   },
   "file_extension": ".py",
   "mimetype": "text/x-python",
   "name": "python",
   "nbconvert_exporter": "python",
   "pygments_lexer": "ipython3",
   "version": "3.9.13"
  },
  "orig_nbformat": 4,
  "vscode": {
   "interpreter": {
    "hash": "7670ac83fdd1c212b41bd83cc29098e9d8ea104aed818972b6b1c02791ee2b7b"
   }
  }
 },
 "nbformat": 4,
 "nbformat_minor": 2
}
